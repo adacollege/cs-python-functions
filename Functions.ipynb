{
 "cells": [
  {
   "cell_type": "markdown",
   "metadata": {},
   "source": [
    "## Functions in Python\n",
    "\n",
    "Functions are \"self contained\" sections of code that accomplish a specific task.  Its like a recipe. \n",
    "\n",
    "In python the keyword that starts a function is\n",
    "\n",
    "```python \n",
    "    def function_name(dataIn):\n",
    "```\n",
    "\n",
    "Functions usually \"take in\" data, process it, and \"return\" a result. In python this looks like:\n",
    "```python\n",
    "    def function_name(dataIn):\n",
    "    \n",
    "        #do stuff with the data to get a result\n",
    "        \n",
    "        return result\n",
    "```\n",
    "\n"
   ]
  },
  {
   "cell_type": "markdown",
   "metadata": {},
   "source": [
    "Once a function is written, it can be used over and over and over again. \n",
    "\n",
    "Functions must be \"called\" with actual data in order to be executed. Back to the recipe analogy - a recipe is not the cake, you actually have to follow the recipe with actual ingredients to end up with a resulting cake!\n",
    "\n",
    "```python\n",
    "result = function_name(3) # the data taken in is the number 3\n",
    "answer = function_name(78) # the data taken in is the number 78\n",
    "start=77\n",
    "final = function_name(start) # the data taken in is the value of the variable start \n",
    "```\n",
    "\n",
    "[Read more about functions here](http://www.cs.utah.edu/~germain/PPS/Topics/functions.html)\n",
    "\n",
    "remember to make you own notes as you learn new things."
   ]
  },
  {
   "cell_type": "markdown",
   "metadata": {},
   "source": [
    "## Task - write a library of maths functions\n",
    "\n",
    "1. add - takes 2 parameters: the two numbers to add, returns the sum\n",
    "\n",
    "2. subtract - takes 2 parameters: the two numbers to subtract, returns the difference\n",
    "\n",
    "3. floorDivide - takes 2 parameters: the two numbers to divide, returns the whole quotient\n",
    "\n",
    "4. divide - takes 2 parameters: the two numbers to divide, returns the quotient (as a decimal)\n",
    "\n",
    "4. multiply - takes 2 parameters: the two numbers to multiply, returns the product\n",
    "\n",
    "5. getRemainder - takes 2 parameters: the two numbers to divide, returns the remainder\n",
    "\n",
    "6. power takes 2 parameters: the two numbers one is the base the other the power, returns  base ^ power\n",
    "\n"
   ]
  },
  {
   "cell_type": "markdown",
   "metadata": {},
   "source": [
    "## function definitions\n",
    "\n",
    "In the next cell we are defining the function and the input values (called parameters). These input values are simply placeholders for actual values that will be used when calling the function. In the cake analogy, the egg in a recipe does not exisit until you actually make a cake. Then you need to use a real egg."
   ]
  },
  {
   "cell_type": "code",
   "execution_count": null,
   "metadata": {
    "collapsed": true
   },
   "outputs": [],
   "source": [
    "#this function adds two numbers passed as parameters\n",
    "def add (number1, number2):\n",
    "    answer = number1+number2\n",
    "    return  answer"
   ]
  },
  {
   "cell_type": "markdown",
   "metadata": {},
   "source": [
    "## calling functions\n",
    "\n",
    "In the cells below we are CALLING the function with actual values (ARGUMENTS)"
   ]
  },
  {
   "cell_type": "code",
   "execution_count": null,
   "metadata": {
    "collapsed": true
   },
   "outputs": [],
   "source": [
    "add(4,5)"
   ]
  },
  {
   "cell_type": "code",
   "execution_count": null,
   "metadata": {
    "collapsed": true
   },
   "outputs": [],
   "source": [
    "add(-6,-5)"
   ]
  },
  {
   "cell_type": "code",
   "execution_count": null,
   "metadata": {
    "collapsed": true
   },
   "outputs": [],
   "source": [
    "add(5.6, 9)"
   ]
  },
  {
   "cell_type": "code",
   "execution_count": null,
   "metadata": {
    "collapsed": true
   },
   "outputs": [],
   "source": [
    "add (\"hello\", \"world\") # ooops this is weird!!"
   ]
  },
  {
   "cell_type": "markdown",
   "metadata": {},
   "source": [
    "## Testing code with asserts\n",
    "\n",
    "The assert statement exists in almost every programming language. When you do...\n",
    "\n",
    "\n",
    "```python\n",
    "assert <condition>\n",
    "```\n",
    "\n",
    "you're telling the program to test that condition, and trigger an error if the condition is false.\n",
    "\n",
    "Here is a simple example;\n",
    "```python\n",
    "assert 2 + 2 == 5, \"Houston we've got a problem\"\n",
    "```\n",
    "\n",
    "Since 2+2 doed **NOT** equal 5, this code will print out the message  \"Houston we've got a problem\" - you can test it out below\n",
    "\n",
    "[Much more on testing here](http://docs.python-guide.org/en/latest/writing/tests/)"
   ]
  },
  {
   "cell_type": "markdown",
   "metadata": {},
   "source": [
    "## test the assert code below and fix it so that it doesn't throw an AssertionError"
   ]
  },
  {
   "cell_type": "code",
   "execution_count": null,
   "metadata": {
    "collapsed": true
   },
   "outputs": [],
   "source": [
    "assert 2 + 2 == 5, \"Houston we've got a problem\" #This will give an AssertionError\n"
   ]
  },
  {
   "cell_type": "code",
   "execution_count": null,
   "metadata": {
    "collapsed": true
   },
   "outputs": [],
   "source": [
    "assert 2 + 2 == 4, \"Houston we've got a problem\" #this won't give an error!"
   ]
  },
  {
   "cell_type": "markdown",
   "metadata": {},
   "source": [
    "## Task: Write the function definitions \n",
    "\n",
    "subtract - takes 2 parameters: the two numbers to subtract, returns the difference\n",
    "\n",
    "floorDivide - takes 2 parameters: the two numbers to divide, returns the whole quotient\n",
    "\n",
    "divide - takes 2 parameters: the two numbers to divide, returns the quotient (as a decimal)\n",
    "\n",
    "multiply - takes 2 parameters: the two numbers to multiply, returns the product\n",
    "\n",
    "getRemainder - takes 2 parameters: the two numbers to divide, returns the remainder\n",
    "\n",
    "power - takes 2 parameters: the two numbers one is the base the other the power, returns base ^ power\n"
   ]
  },
  {
   "cell_type": "code",
   "execution_count": null,
   "metadata": {
    "collapsed": true
   },
   "outputs": [],
   "source": [
    "# subtract function \n",
    "\n",
    "# floorDivide function\n",
    "\n",
    "# divide function\n",
    "\n",
    "# multiply function\n",
    "\n",
    "# getRemainder function\n",
    "\n",
    "# power function"
   ]
  },
  {
   "cell_type": "markdown",
   "metadata": {},
   "source": [
    "## Task: Test the code you have written using the following asserts\n",
    "\n",
    "To test your code with all these asserts go to **Kernel** (on the menu) and choose **restart and run all**"
   ]
  },
  {
   "cell_type": "code",
   "execution_count": null,
   "metadata": {
    "collapsed": true
   },
   "outputs": [],
   "source": [
    "assert add(4,5)==9, \"add function not working\""
   ]
  },
  {
   "cell_type": "code",
   "execution_count": null,
   "metadata": {
    "collapsed": true
   },
   "outputs": [],
   "source": [
    "assert subtract(4,5)==-1, \"subtract function not working\""
   ]
  },
  {
   "cell_type": "code",
   "execution_count": null,
   "metadata": {
    "collapsed": true
   },
   "outputs": [],
   "source": [
    "assert multiply(4,5)==20, \"multiply function not working\""
   ]
  },
  {
   "cell_type": "code",
   "execution_count": null,
   "metadata": {
    "collapsed": true
   },
   "outputs": [],
   "source": [
    "assert divide(5,5)==1.0, \"divide function not working\""
   ]
  },
  {
   "cell_type": "code",
   "execution_count": null,
   "metadata": {
    "collapsed": true
   },
   "outputs": [],
   "source": [
    "assert floorDivide(1,2)==0.5, \"floor divide function not working\""
   ]
  },
  {
   "cell_type": "code",
   "execution_count": null,
   "metadata": {
    "collapsed": true
   },
   "outputs": [],
   "source": [
    "assert getRemainder(5,4)==1, \"getRemainder function not working\""
   ]
  },
  {
   "cell_type": "code",
   "execution_count": null,
   "metadata": {
    "collapsed": true
   },
   "outputs": [],
   "source": [
    "assert power(3,2)==9, \"power function not working\"\n",
    "Jupyter Notebook Logout Control Panelprogramming1_function Last Checkpoint: 21 minutes ago (autosaved) Python 3\n",
    "Python 3 Trusted\n",
    "File\n",
    "Edit\n",
    "View\n",
    "Insert\n",
    "Cell\n",
    "Kernel\n",
    "Widgets\n",
    "Help\n",
    "\n",
    "In [13]:\n",
    "\n",
    "age=18 \n",
    "adults= True \n",
    "​\n",
    "    \n",
    "​\n",
    "​\n",
    "    \n",
    " \n",
    "  File \"<ipython-input-13-36fefd235123>\", line 1\n",
    "    if age > 18\n",
    "                ^\n",
    "SyntaxError: invalid syntax\n",
    "\n",
    "\n",
    "In [16]:\n",
    "\n",
    "raining = trousers \n",
    "sunny = shorts \n",
    "windy = coat\n",
    "​\n",
    "if raining = trousers:\n",
    "print(\"wear trousers\")\n",
    "​\n",
    "elif sunny = shorts \n",
    "print(\"wear shorts\")\n",
    "​\n",
    "else windy == coat \n",
    "print(\"wear coat\")\n",
    "  File \"<ipython-input-16-3df5a834d624>\", line 5\n",
    "    if raining = trousers:\n",
    "               ^\n",
    "SyntaxError: invalid syntax\n",
    "\n",
    "\n",
    "In [19]:\n",
    "\n",
    "gender= boy\n",
    "pizza = \"no\"\n",
    "​\n",
    "pizza = input(\"do you like pizza, answer it in yes or no\")\n",
    "​\n",
    "if (gender == boy and pizza == \"yes\") \n",
    "    print(\"you can enter\")\n",
    " \n",
    "  File \"<ipython-input-19-3681a1b595f2>\", line 6\n",
    "    if (gender == boy and pizza == \"yes\")\n",
    "                                          ^\n",
    "SyntaxError: invalid syntax\n",
    "\n",
    "\n",
    "In [20]:\n",
    "\n",
    "for letter in \"PYTHON\":\n",
    "    print(\"Current letter:\", letter)\n",
    "Current letter: P\n",
    "Current letter: Y\n",
    "Current letter: T\n",
    "Current letter: H\n",
    "Current letter: O\n",
    "Current letter: N\n",
    "In [21]:\n",
    "\n",
    "for x in range (0,9):\n",
    "    print(\"hello\")\n",
    "    print(\"goodbye\")\n",
    "hello\n",
    "goodbye\n",
    "hello\n",
    "goodbye\n",
    "hello\n",
    "goodbye\n",
    "hello\n",
    "goodbye\n",
    "hello\n",
    "goodbye\n",
    "hello\n",
    "goodbye\n",
    "hello\n",
    "goodbye\n",
    "hello\n",
    "goodbye\n",
    "hello\n",
    "goodbye\n",
    "In [1]:\n",
    "\n",
    "name=\"fred\"\n",
    "for ch in name:\n",
    "    print(ch, end=””)\n",
    "  File \"<ipython-input-1-7e210c270ef3>\", line 3\n",
    "    print(ch, end=””)\n",
    "                   ^\n",
    "SyntaxError: invalid character in identifier\n",
    "\n",
    "\n",
    "In [2]:\n",
    "\n",
    "for x in range (1,101,5):\n",
    "     print(x)\n",
    "   \n",
    "1\n",
    "6\n",
    "11\n",
    "16\n",
    "21\n",
    "26\n",
    "31\n",
    "36\n",
    "41\n",
    "46\n",
    "51\n",
    "56\n",
    "61\n",
    "66\n",
    "71\n",
    "76\n",
    "81\n",
    "86\n",
    "91\n",
    "96\n",
    "In [ ]:\n",
    "\n",
    "​\n",
    "In [3]:\n",
    "\n",
    "name = \"fred\"\n",
    "age = \"12\"\n",
    "​\n",
    "print(\"{} {}\".format (name,age))\n",
    "fred 12\n",
    "In [6]:\n",
    "\n",
    "name = \"fred\"\n",
    "age = \"12\"\n",
    "​\n",
    "print(\"{1} {0}\". format(name,age))\n",
    "12 fred\n",
    "In [8]:\n",
    "\n",
    "radius = 10 \n",
    "pi = 3.141592653589793\n",
    "​\n",
    "print(\"{:d}\".format (radius))\n",
    "print(\"{:f}\".format (pi))\n",
    "10\n",
    "3.141593\n",
    "In [9]:\n",
    "\n",
    "pi = 3.141592653589793\n",
    "print(\"{:0.2f}\".format (pi))\n",
    "3.14\n",
    "In [11]:\n",
    "\n",
    "val = 65\n",
    "ch = \"b\"\n",
    "​\n",
    "x=ord(ch)\n",
    "y=chr(val)\n",
    "​\n",
    "print(\"{} , {}\".format (x,y))\n",
    "98 , A\n",
    "In [17]:\n",
    "\n",
    "def add (number1, number2):\n",
    "    answer = number1+number2 \n",
    "    return answer \n",
    "add(50,130)\n",
    "Out[17]:\n",
    "180\n",
    "In [23]:\n",
    "\n",
    "def subtract (number1, number2):\n",
    "    answer = number1-number2\n",
    "    return answer \n",
    "subtract(40,2)\n",
    "Out[23]:\n",
    "38\n",
    "In [25]:\n",
    "\n",
    "def floordivide (number1, number2):\n",
    "    answer = number1//number2\n",
    "    return answer\n",
    "floordivide(9,2)\n",
    "Out[25]:\n",
    "4\n",
    "In [26]:\n",
    "\n",
    "def divide (number1, number2):\n",
    "    answer = number1/number2\n",
    "    return answer\n",
    "divide(9,3)\n",
    "    \n",
    "Out[26]:\n",
    "3.0\n",
    "In [30]:\n",
    "\n",
    "def multiply (number1, number2):\n",
    "    answer = number1*number2\n",
    "    return answer\n",
    "multiply(8,9)\n",
    "Out[30]:\n",
    "72\n",
    "In [31]:\n",
    "\n",
    "def getRemainder (number1, number2):\n",
    "    answer = number1/number2\n",
    "    return answer\n",
    "getRemainder(12,7)\n",
    "Out[31]:\n",
    "1.7142857142857142\n",
    "In [32]:\n",
    "\n",
    "def power (number1, number2):\n",
    "    answer = number1**number2\n",
    "    return answer \n",
    "power(9,6)\n",
    "Out[32]:\n",
    "531441\n",
    "In [51]:\n",
    "\n",
    "def function (number1, number2):\n",
    "    answer = number1-number2\n",
    "    return answer\n",
    "​\n",
    "​\n",
    "answer = function(4,5)\n",
    "print(answer)\n",
    "​\n",
    "assert function(3,2)==5, \"error in addition\"\n",
    "-1\n",
    "---------------------------------------------------------------------------\n",
    "AssertionError                            Traceback (most recent call last)\n",
    "<ipython-input-51-9f8f9b6db40b> in <module>()\n",
    "      7 print(answer)\n",
    "      8 \n",
    "----> 9 assert function(3,2)==5, \"error in addition\"\n",
    "\n",
    "AssertionError: error in addition\n",
    "\n"
   ]
  }
 ],
 "metadata": {
  "kernelspec": {
   "display_name": "Python 3",
   "language": "python",
   "name": "python3"
  },
  "language_info": {
   "codemirror_mode": {
    "name": "ipython",
    "version": 3
   },
   "file_extension": ".py",
   "mimetype": "text/x-python",
   "name": "python",
   "nbconvert_exporter": "python",
   "pygments_lexer": "ipython3",
   "version": "3.5.2"
  }
 },
 "nbformat": 4,
 "nbformat_minor": 2
}
