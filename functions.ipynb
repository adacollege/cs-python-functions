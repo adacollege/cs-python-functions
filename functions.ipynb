{
 "cells": [
  {
   "cell_type": "markdown",
   "metadata": {},
   "source": [
    "## Functions In Python:\n",
    "\n",
    "Functions are \"self contained\" sections of code that accomplish a specific task.  Its like a recipe. \n",
    "\n",
    "In python the keyword that starts a function is:\n",
    "\n",
    "```python \n",
    "    def function_name(dataIn):\n",
    "```\n",
    "\n",
    "Functions usually \"take in\" data, process it, and \"return\" a result. In python this looks like:\n",
    "\n",
    "```python\n",
    "    def function_name(dataIn):\n",
    "    \n",
    "        #do stuff with the data to get a result.\n",
    "        \n",
    "        return result\n",
    "```"
   ]
  },
  {
   "cell_type": "markdown",
   "metadata": {},
   "source": [
    "Once a function is written, it can be used over and over and over again. \n",
    "\n",
    "Functions must be \"called\" with actual data in order to be executed. Back to the recipe analogy - a recipe is not the cake, you actually have to follow the recipe with actual ingredients to end up with a resulting cake!\n",
    "\n",
    "```python\n",
    "result = function_name(3) # the data taken in is the number 3.\n",
    "answer = function_name(78) # the data taken in is the number 78.\n",
    "start = 77\n",
    "final = function_name(start) # the data taken in is the value of the variable start.\n",
    "```\n",
    "\n",
    "[Read More About Functions Here](http://www.cs.utah.edu/~germain/PPS/Topics/functions.html).\n",
    "\n",
    "Remember to make you own notes as you learn new things."
   ]
  },
  {
   "cell_type": "markdown",
   "metadata": {},
   "source": [
    "## Task - Write A Library Of Maths Functions:\n",
    "\n",
    "1. add - takes 2 parameters: the two numbers to add, returns the sum;\n",
    "\n",
    "2. subtract - takes 2 parameters: the two numbers to subtract, returns the difference;\n",
    "\n",
    "3. floorDivide - takes 2 parameters: the two numbers to divide, returns the whole quotient;\n",
    "\n",
    "4. divide - takes 2 parameters: the two numbers to divide, returns the quotient (as a decimal);\n",
    "\n",
    "5. multiply - takes 2 parameters: the two numbers to multiply, returns the product;\n",
    "\n",
    "6. getRemainder - takes 2 parameters: the two numbers to divide, returns the remainder;\n",
    "\n",
    "7. power takes 2 parameters: the two numbers one is the base the other the power, returns  base ^ power."
   ]
  },
  {
   "cell_type": "markdown",
   "metadata": {},
   "source": [
    "## Function Definitions:\n",
    "\n",
    "In the next cell we are defining the function and the input values (called parameters). These input values are simply placeholders for actual values that will be used when calling the function. In the cake analogy, the egg in a recipe does not exisit until you actually make a cake. Then you need to use a real egg."
   ]
  },
  {
   "cell_type": "code",
   "execution_count": 3,
   "metadata": {},
   "outputs": [
    {
     "name": "stdout",
     "output_type": "stream",
     "text": [
      "OPERATOR (**, -, +, %, //, /, *) >> **\n"
     ]
    }
   ],
   "source": [
    "import operator\n",
    "\n",
    "operators = {'+': operator.add, '-': operator.sub, '*': operator.mul,\n",
    "             '/': operator.truediv, '**': operator.pow, '//': operator.floordiv,\n",
    "             '%': operator.mod}\n",
    "\n",
    "operator = str(input('OPERATOR ({0}) >> '.format(', '.join(x for x in list(operators.keys())))))\n",
    "\n",
    "for i in operators.keys():\n",
    "    if operator == i:\n",
    "        op = operators[i] ; break\n",
    "\n",
    "def numeracy(a, b):\n",
    "    return op(a, b)"
   ]
  },
  {
   "cell_type": "code",
   "execution_count": 4,
   "metadata": {},
   "outputs": [
    {
     "data": {
      "text/plain": [
       "16"
      ]
     },
     "execution_count": 4,
     "metadata": {},
     "output_type": "execute_result"
    }
   ],
   "source": [
    "numeracy(4, 2)"
   ]
  },
  {
   "cell_type": "markdown",
   "metadata": {},
   "source": [
    "## Calling Functions:\n",
    "\n",
    "In the cells below we are CALLING the function with actual values (ARGUMENTS)."
   ]
  },
  {
   "cell_type": "markdown",
   "metadata": {},
   "source": [
    "## Testing Code With Asserts:\n",
    "\n",
    "The assert statement exists in almost every programming language. When you do:\n",
    "\n",
    "```python\n",
    "assert <condition>\n",
    "```\n",
    "\n",
    "You're telling the program to test that condition, and trigger an error if the condition is false.\n",
    "\n",
    "Here is a simple example:\n",
    "\n",
    "```python\n",
    "assert 2 + 2 == 5, \"Houston we've got a problem\"\n",
    "```\n",
    "\n",
    "Since 2+2 doed **NOT** equal 5, this code will print out the message  \"Houston we've got a problem\" - you can test it out below.\n",
    "\n",
    "[Much more on testing here](http://docs.python-guide.org/en/latest/writing/tests/)."
   ]
  },
  {
   "cell_type": "markdown",
   "metadata": {},
   "source": [
    "## Test The Assert Code Below And Fix It So That It Doesn't Throw An AssertionError:"
   ]
  },
  {
   "cell_type": "code",
   "execution_count": null,
   "metadata": {
    "collapsed": true
   },
   "outputs": [],
   "source": [
    "assert 2 + 3 == 5, \"ERROR\""
   ]
  },
  {
   "cell_type": "code",
   "execution_count": null,
   "metadata": {
    "collapsed": true
   },
   "outputs": [],
   "source": [
    "assert 2 + 2 == 4, \"ERROR\""
   ]
  },
  {
   "cell_type": "markdown",
   "metadata": {},
   "source": [
    "## Task - Write The Function Definitions: \n",
    "\n",
    "1. add - takes 2 parameters: the two numbers to add, returns the sum;\n",
    "\n",
    "2. subtract - takes 2 parameters: the two numbers to subtract, returns the difference;\n",
    "\n",
    "3. floorDivide - takes 2 parameters: the two numbers to divide, returns the whole quotient;\n",
    "\n",
    "4. divide - takes 2 parameters: the two numbers to divide, returns the quotient (as a decimal);\n",
    "\n",
    "5. multiply - takes 2 parameters: the two numbers to multiply, returns the product;\n",
    "\n",
    "6. getRemainder - takes 2 parameters: the two numbers to divide, returns the remainder;\n",
    "\n",
    "7. power takes 2 parameters: the two numbers one is the base the other the power, returns  base ^ power."
   ]
  },
  {
   "cell_type": "code",
   "execution_count": null,
   "metadata": {},
   "outputs": [],
   "source": [
    "import operator\n",
    "\n",
    "operators = {'+': operator.add, '-': operator.sub, '*': operator.mul,\n",
    "             '/': operator.truediv, '**': operator.pow, '//': operator.floordiv,\n",
    "             '%': operator.mod}\n",
    "\n",
    "operator = str(input('OPERATOR ({0}) >> '.format(', '.join(x for x in list(operators.keys())))))\n",
    "\n",
    "for i in operators.keys():\n",
    "    if operator == i:\n",
    "        op = operators[i] ; break\n",
    "\n",
    "def numeracy(a, b):\n",
    "    return op(a, b)"
   ]
  },
  {
   "cell_type": "markdown",
   "metadata": {},
   "source": [
    "## Task - Test The Code You Have Written Using The Following Asserts:\n",
    "\n",
    "To test your code with all these asserts go to **Kernel** (on the menu) and choose **restart and run all**."
   ]
  },
  {
   "cell_type": "code",
   "execution_count": null,
   "metadata": {},
   "outputs": [],
   "source": [
    "for i in operators.keys():\n",
    "    op = operators[i]\n",
    "    try:\n",
    "        assert numeracy(6, 8) == 14\n",
    "    except AssertionError:\n",
    "        print('\\'{}\\' : ERROR'.format(i))"
   ]
  }
 ],
 "metadata": {
  "kernelspec": {
   "display_name": "Python 3",
   "language": "python",
   "name": "python3"
  },
  "language_info": {
   "codemirror_mode": {
    "name": "ipython",
    "version": 3
   },
   "file_extension": ".py",
   "mimetype": "text/x-python",
   "name": "python",
   "nbconvert_exporter": "python",
   "pygments_lexer": "ipython3",
   "version": "3.5.2"
  }
 },
 "nbformat": 4,
 "nbformat_minor": 2
}
