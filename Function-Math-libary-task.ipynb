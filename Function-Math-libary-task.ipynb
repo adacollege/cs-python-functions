{
 "cells": [
  {
   "cell_type": "code",
   "execution_count": null,
   "metadata": {
    "collapsed": true
   },
   "outputs": [],
   "source": [
    "#YOU NEED TO CALL THE DESIRED FUNCTION\n",
    "#add()\n",
    "#sub()\n",
    "#floorDiv()\n",
    "#div()\n",
    "#mult()\n",
    "#rem()\n",
    "#power()\n",
    "\n",
    "#Libary of Maths Function\n",
    "\n",
    "#Additon\n",
    "#Takes 2 paramenters to input\n",
    "def add(x,y):\n",
    "    #returns the sum of the 2 numbers inputed \n",
    "    return(x+y)\n",
    "    \n",
    "\n",
    "#Subtraction\n",
    "#Takes 2 paramenters to input\n",
    "def sub(x,y):\n",
    "    #returns the difference of the 2 numbers inputed \n",
    "    return(x-y)\n",
    "\n",
    "#Floor divide\n",
    "#Takes 2 paramenters to input\n",
    "def floorDiv(x,y):\n",
    "    #returns the division of the 2 numbers inputed, rounded down as an integer \n",
    "    return(int(x/y))\n",
    "\n",
    "#Divide\n",
    "#Takes 2 paramenters to input\n",
    "def div(x,y):\n",
    "    #returns the division of the 2 numbers inputed\n",
    "    return(x/y)\n",
    "\n",
    "#Multiplication\n",
    "#Takes 2 paramenters to input\n",
    "def mult(x,y):\n",
    "    #returns the product of the 2 numbers\n",
    "    return(x*y)\n",
    "\n",
    "#Remainder\n",
    "#Takes 2 paramenters to input\n",
    "def rem(x,y):\n",
    "    #returns the remainder of the divion of the 2 numbers\n",
    "    return(x%y)\n",
    "\n",
    "#Exponents of power\n",
    "#Takes 2 paramenters to input\n",
    "def power(x,y):\n",
    "    #returns the first number raised by the second.\n",
    "    return(x**y)\n"
   ]
  }
 ],
 "metadata": {
  "kernelspec": {
   "display_name": "Python 3",
   "language": "python",
   "name": "python3"
  },
  "language_info": {
   "codemirror_mode": {
    "name": "ipython",
    "version": 3
   },
   "file_extension": ".py",
   "mimetype": "text/x-python",
   "name": "python",
   "nbconvert_exporter": "python",
   "pygments_lexer": "ipython3",
   "version": "3.5.2"
  }
 },
 "nbformat": 4,
 "nbformat_minor": 2
}
